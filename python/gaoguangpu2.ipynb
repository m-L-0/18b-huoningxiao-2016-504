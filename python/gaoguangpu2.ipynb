{
 "cells": [
  {
   "cell_type": "code",
   "execution_count": 15,
   "metadata": {},
   "outputs": [
    {
     "name": "stdout",
     "output_type": "stream",
     "text": [
      "(1071, 200)\n",
      "<class 'numpy.ndarray'>\n"
     ]
    }
   ],
   "source": [
    "#作业：高光谱数据分类\n",
    "#姓名：霍宁肖\n",
    "#学号：2016011504\n",
    "import pandas as pd\n",
    "import numpy as np\n",
    "import tensorflow as tf\n",
    "from scipy.io import loadmat\n",
    "#读取.mat文件\n",
    "\n",
    "data2_train=loadmat('/home/hnx/下载/9个类别的数据集-train/9个类别的数据集-train/data2_train.mat')['data2_train']\n",
    "data3_train=loadmat('/home/hnx/下载/9个类别的数据集-train/9个类别的数据集-train/data3_train.mat')['data3_train']\n",
    "data5_train=loadmat('/home/hnx/下载/9个类别的数据集-train/9个类别的数据集-train/data5_train.mat')['data5_train']\n",
    "data6_train=loadmat('/home/hnx/下载/9个类别的数据集-train/9个类别的数据集-train/data6_train.mat')['data6_train']\n",
    "data8_train=loadmat('/home/hnx/下载/9个类别的数据集-train/9个类别的数据集-train/data8_train.mat')['data8_train']\n",
    "data10_train=loadmat('/home/hnx/下载/9个类别的数据集-train/9个类别的数据集-train/data10_train.mat')['data10_train']\n",
    "data11_train=loadmat('/home/hnx/下载/9个类别的数据集-train/9个类别的数据集-train/data11_train.mat')['data11_train']\n",
    "data12_train=loadmat('/home/hnx/下载/9个类别的数据集-train/9个类别的数据集-train/data12_train.mat')['data12_train']\n",
    "data14_train=loadmat('/home/hnx/下载/9个类别的数据集-train/9个类别的数据集-train/data14_train.mat')['data14_train']\n",
    "\n",
    "print(data2_train.shape)\n",
    "print(type(data2_train))"
   ]
  },
  {
   "cell_type": "code",
   "execution_count": 3,
   "metadata": {},
   "outputs": [
    {
     "name": "stdout",
     "output_type": "stream",
     "text": [
      "1071\n"
     ]
    }
   ],
   "source": [
    "len2=len(data2_train)\n",
    "print(len2)\n",
    "len3=len(data3_train)\n",
    "#print(len3)\n",
    "len5=len(data5_train)\n",
    "#print(len5)\n",
    "len6=len(data6_train)\n",
    "#print(len6)\n",
    "len8=len(data8_train)\n",
    "#print(len8)\n",
    "len10=len(data10_train)\n",
    "#print(len10)\n",
    "len11=len(data11_train)\n",
    "#print(len11)\n",
    "len12=len(data12_train)\n",
    "#print(len12)\n",
    "len14=len(data14_train)\n",
    "#print(len14)"
   ]
  },
  {
   "cell_type": "code",
   "execution_count": 4,
   "metadata": {},
   "outputs": [
    {
     "name": "stdout",
     "output_type": "stream",
     "text": [
      "(1071, 1)\n"
     ]
    }
   ],
   "source": [
    "#生成对应标签\n",
    "label2=2*np.ones((len2,1))\n",
    "#print(type(label2))\n",
    "print(label2.shape)\n",
    "#print(label2)\n",
    "label3=3*np.ones((len3,1))\n",
    "label5=5*np.ones((len5,1))\n",
    "label6=6*np.ones((len6,1))\n",
    "label8=8*np.ones((len8,1))\n",
    "label10=10*np.ones((len10,1))\n",
    "label11=11*np.ones((len11,1))\n",
    "label12=12*np.ones((len12,1))\n",
    "label14=14*np.ones((len14,1))"
   ]
  },
  {
   "cell_type": "code",
   "execution_count": 5,
   "metadata": {},
   "outputs": [],
   "source": [
    "#对数组(数据和标签)进行横向拼接，使用np.hstack函数\n",
    "data2=np.hstack((data2_train,label2))\n",
    "#print(data2.shape)\n",
    "#print(data2)\n",
    "data3=np.hstack((data3_train,label3))\n",
    "data5=np.hstack((data5_train,label5))\n",
    "data6=np.hstack((data6_train,label6))\n",
    "data8=np.hstack((data8_train,label8))\n",
    "data10=np.hstack((data10_train,label10))\n",
    "data11=np.hstack((data11_train,label11))\n",
    "data12=np.hstack((data12_train,label12))\n",
    "data14=np.hstack((data14_train,label14))"
   ]
  },
  {
   "cell_type": "code",
   "execution_count": 6,
   "metadata": {},
   "outputs": [
    {
     "name": "stdout",
     "output_type": "stream",
     "text": [
      "6924\n",
      "(6924, 201)\n"
     ]
    }
   ],
   "source": [
    "len=len2+len3+len5+len6+len8+len10+len11+len12+len14\n",
    "print(len)\n",
    "#对数组(9组数据)进行纵向拼接整合，使用np.vstack函数\n",
    "dataa=np.vstack((data2,data3))\n",
    "#print(dataa.shape)\n",
    "#print(dataa)\n",
    "datab=np.vstack((dataa,data5))\n",
    "datac=np.vstack((datab,data6))\n",
    "datad=np.vstack((datac,data8))\n",
    "datae=np.vstack((datad,data10))\n",
    "dataf=np.vstack((datae,data11))\n",
    "datag=np.vstack((dataf,data12))\n",
    "data=np.vstack((datag,data14))\n",
    "print(data.shape)\n",
    "#print(data)"
   ]
  },
  {
   "cell_type": "code",
   "execution_count": 8,
   "metadata": {},
   "outputs": [
    {
     "name": "stdout",
     "output_type": "stream",
     "text": [
      "accuracy score:\n",
      "0.7926054303870596\n"
     ]
    }
   ],
   "source": [
    "#x=data[0:len,200]\n",
    "x=data[:,0:200]\n",
    "y=data[:,-1]\n",
    "#print(x.shape)\n",
    "#print(y.shape)\n",
    "#print(y)\n",
    "\n",
    "#对原始数据集进行#分类采样#，\n",
    "from sklearn.model_selection import KFold\n",
    "from sklearn.model_selection import train_test_split\n",
    "#利用train_test_split函数对原始数据集进行分类采样，取其中75%作为训练数据集,25%作为测试数据集\n",
    "x_train, x_test, y_train, y_test = train_test_split(x, y, test_size=0.25, random_state=42)\n",
    "\n",
    "\n",
    "\n",
    "#进行特征提取，类DictVectorizer可将dict对象所表示的特征转化为numpy所表示的对象\n",
    "from sklearn.feature_extraction import DictVectorizer\n",
    "#计算分类性能，多标签case\n",
    "from sklearn.metrics import accuracy_score,classification_report\n",
    "# 导入分类器并用fit()函数训练\n",
    "from sklearn.neighbors import KNeighborsClassifier\n",
    "\n",
    "#利用分类器对测试集进行预测########用库函数对测试集特征X预测出来的类别y和真实类别y进行比较，输出正确率\n",
    "############循环调用k=5\n",
    "knn = KNeighborsClassifier(5)\n",
    "knn.fit(x_train,y_train)\n",
    "prediction=knn.predict(x_test)\n",
    "print(\"accuracy score:\")\n",
    "print(accuracy_score(y_test,prediction))"
   ]
  },
  {
   "cell_type": "code",
   "execution_count": 12,
   "metadata": {},
   "outputs": [],
   "source": [
    "data_test_final=loadmat('/home/hnx/下载/data_test_final.mat')['data_test_final']\n",
    "result=knn.predict(data_test_final)\n",
    "dat=pd.DataFrame(result)\n",
    "dat.to_csv('/home/hnx/下载/result.csv')"
   ]
  },
  {
   "cell_type": "code",
   "execution_count": 29,
   "metadata": {},
   "outputs": [
    {
     "name": "stdout",
     "output_type": "stream",
     "text": [
      "0.7897169266320047\n"
     ]
    }
   ],
   "source": [
    "#从sklearn中导入决策树分类器，然后使用fit方法对x_train,y_train进行训练，使用predict方法对x_test进行预测\n",
    "from sklearn.tree import DecisionTreeClassifier\n",
    "#dt_model=DecisionTreeClassifier()#所有参数设置为默认值状态\n",
    "dt=DecisionTreeClassifier(criterion='entropy',splitter='random',max_depth=10)\n",
    "#criterion=gini/entropy 选择用基尼指数或熵做损失函数\n",
    "#splitter=best/random 确定每个节点的分裂策略，最佳或随机\n",
    "#max_depth=int 控制决策树的最大深度，防止模型出现过拟合\n",
    "#min_samples_leaf=int 设置叶节点上最少样本数量，对树进行修剪\n",
    "\n",
    "dt.fit(x_train,y_train)\n",
    "pre=dt.predict(x_test)\n",
    "#使用sklearn提供的评估计算方法查看预测结果准确度\n",
    "from sklearn.metrics import accuracy_score\n",
    "print(accuracy_score(y_test,pre))"
   ]
  }
 ],
 "metadata": {
  "kernelspec": {
   "display_name": "Python 3",
   "language": "python",
   "name": "python3"
  },
  "language_info": {
   "codemirror_mode": {
    "name": "ipython",
    "version": 3
   },
   "file_extension": ".py",
   "mimetype": "text/x-python",
   "name": "python",
   "nbconvert_exporter": "python",
   "pygments_lexer": "ipython3",
   "version": "3.5.2"
  }
 },
 "nbformat": 4,
 "nbformat_minor": 2
}
