{
 "cells": [
  {
   "cell_type": "code",
   "execution_count": 2,
   "metadata": {},
   "outputs": [
    {
     "name": "stdout",
     "output_type": "stream",
     "text": [
      "k为: 1\n",
      "0.9333333333333333\n",
      "k为: 2\n",
      "1.0\n",
      "k为: 3\n",
      "1.0\n",
      "k为: 4\n",
      "1.0\n",
      "k为: 5\n",
      "1.0\n",
      "k为: 6\n",
      "0.9666666666666667\n",
      "k为: 7\n",
      "0.9666666666666667\n",
      "k为: 8\n",
      "0.9333333333333333\n",
      "k为: 9\n",
      "0.9333333333333333\n",
      "k为: 10\n",
      "0.7666666666666667\n",
      "k为: 11\n",
      "0.7666666666666667\n",
      "k为: 12\n",
      "0.7\n",
      "k为: 13\n",
      "0.7\n",
      "k为: 14\n",
      "0.7\n",
      "k为: 15\n",
      "0.7\n",
      "k为: 16\n",
      "0.7\n",
      "k为: 17\n",
      "0.7\n",
      "k为: 18\n",
      "0.7\n",
      "k为: 19\n",
      "0.7\n"
     ]
    }
   ],
   "source": [
    "#霍宁肖  2016011504\n",
    "\n",
    "#要实现kNN算法，需要计算出每一个样本点与测试点的距离，选取距离最近的k个样本\n",
    "#获取他们的标签,然后找出k个样本中数量最多的标签，返回该标签\n",
    "######对x_train,y_train进行训练,,,对x_test进行预测\n",
    "import tensorflow as tf\n",
    "import numpy as np\n",
    "from math import sqrt\n",
    "import operator as opt\n",
    "from sklearn import datasets\n",
    "iris=datasets.load_iris()\n",
    "x=iris.data        #####矩阵120*4\n",
    "y=iris.target\n",
    "\n",
    "np.random.seed(0)\n",
    "# permutation随机生成0-150的系列\n",
    "k = np.random.permutation(len(iris.data))\n",
    "#将数据集中前120条作为训练集，后30条作为验证集\n",
    "x_train = x[k[:-120]]\n",
    "y_train = y[k[:-120]]\n",
    "x_test = x[k[-30:]]\n",
    "y_test = y[k[-30:]]\n",
    "\n",
    "def knn(x_train,y_train,x_test,k):\n",
    "    #labels = {b'Iris-setosa':0,b'Iris-versicolor':1,b'Iris-virginica':2}\n",
    "    t=len(x_test)\n",
    "    count = 0   \n",
    "    for j in range(t):\n",
    "        distSquareMat = (x_train - x_test[j]) ** 2 # 计算差值的平方,\n",
    "        distSquareSums = distSquareMat.sum(axis=1) # 求每一行的差值平方和\n",
    "        distances = distSquareSums ** 0.5 # 开根号，得出每个样本到测试点的距离\n",
    "        sortedIndices = distances.argsort() #### 排序，得到排序后的下标\n",
    "        indices = sortedIndices[:k] # 取最小的k个###########KKKKKKKKKKKKKKK\n",
    "        labelCount = {} # 存储每个label的出现次数\n",
    "        for i in indices:\n",
    "            label = y_train[i]###########    对x_train,y_train进行训练\n",
    "            labelCount[label] = labelCount.get(label, 0) + 1 # 次数加一\n",
    "        sortedCount = sorted(labelCount.items(),key=opt.itemgetter(1),reverse=True) \n",
    "        # 对label出现的次数从大到小进行排序\n",
    "        #### return sortedCount[0][0] # 返回出现次数最大的label ###return以后的代码不再运行\n",
    "        if sortedCount[0][0]==y_test[j]:###########    对x_test进行预测，并和真实类别进行比较\n",
    "            count=count+1\n",
    "    result = float(count)/float(t)\n",
    "    return result\n",
    "if __name__ == \"__main__\":\n",
    "    for k in range(1,20):######通过循环可得k为6时正确率最高\n",
    "        acc=knn(x_train,y_train,x_test,k)\n",
    "        print(\"k为:\",k)\n",
    "        print(acc)\n",
    "\n"
   ]
  },
  {
   "cell_type": "code",
   "execution_count": 4,
   "metadata": {},
   "outputs": [],
   "source": []
  },
  {
   "cell_type": "code",
   "execution_count": 7,
   "metadata": {},
   "outputs": [],
   "source": []
  },
  {
   "cell_type": "code",
   "execution_count": null,
   "metadata": {},
   "outputs": [],
   "source": []
  },
  {
   "cell_type": "code",
   "execution_count": null,
   "metadata": {},
   "outputs": [],
   "source": []
  }
 ],
 "metadata": {
  "kernelspec": {
   "display_name": "Python 3",
   "language": "python",
   "name": "python3"
  },
  "language_info": {
   "codemirror_mode": {
    "name": "ipython",
    "version": 3
   },
   "file_extension": ".py",
   "mimetype": "text/x-python",
   "name": "python",
   "nbconvert_exporter": "python",
   "pygments_lexer": "ipython3",
   "version": "3.5.2"
  }
 },
 "nbformat": 4,
 "nbformat_minor": 2
}
